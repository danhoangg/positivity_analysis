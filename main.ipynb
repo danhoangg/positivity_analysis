{
 "cells": [
  {
   "cell_type": "code",
   "execution_count": 71,
   "id": "initial_id",
   "metadata": {
    "collapsed": true,
    "ExecuteTime": {
     "end_time": "2024-03-17T15:59:25.052668900Z",
     "start_time": "2024-03-17T15:59:25.041879600Z"
    }
   },
   "outputs": [],
   "source": [
    "import pandas as pd\n",
    "\n",
    "from tensorflow.keras.models import Sequential\n",
    "from tensorflow.keras.layers import Embedding, LSTM, Dense\n",
    "from tensorflow.keras.preprocessing.text import Tokenizer\n",
    "from tensorflow.keras.preprocessing.sequence import pad_sequences\n",
    "from sklearn.model_selection import train_test_split"
   ]
  },
  {
   "cell_type": "code",
   "execution_count": 72,
   "outputs": [],
   "source": [
    "import re\n",
    "def clean_text(text):\n",
    "    text = re.sub(r'[^a-zA-Z\\s]', '', text, re.I|re.A) \n",
    "    text = text.lower() \n",
    "    return text"
   ],
   "metadata": {
    "collapsed": false,
    "ExecuteTime": {
     "end_time": "2024-03-17T15:59:25.054784Z",
     "start_time": "2024-03-17T15:59:25.046832400Z"
    }
   },
   "id": "614464d852294711"
  },
  {
   "cell_type": "code",
   "execution_count": 73,
   "outputs": [
    {
     "data": {
      "text/plain": "                                                text  label\n0  I always wrote this series off as being a comp...      0\n1  1st watched 12/7/2002 - 3 out of 10(Dir-Steve ...      0\n2  This movie was so poorly written and directed ...      0\n3  The most interesting thing about Miryang (Secr...      1\n4  when i first read about \"berlin am meer\" i did...      0",
      "text/html": "<div>\n<style scoped>\n    .dataframe tbody tr th:only-of-type {\n        vertical-align: middle;\n    }\n\n    .dataframe tbody tr th {\n        vertical-align: top;\n    }\n\n    .dataframe thead th {\n        text-align: right;\n    }\n</style>\n<table border=\"1\" class=\"dataframe\">\n  <thead>\n    <tr style=\"text-align: right;\">\n      <th></th>\n      <th>text</th>\n      <th>label</th>\n    </tr>\n  </thead>\n  <tbody>\n    <tr>\n      <th>0</th>\n      <td>I always wrote this series off as being a comp...</td>\n      <td>0</td>\n    </tr>\n    <tr>\n      <th>1</th>\n      <td>1st watched 12/7/2002 - 3 out of 10(Dir-Steve ...</td>\n      <td>0</td>\n    </tr>\n    <tr>\n      <th>2</th>\n      <td>This movie was so poorly written and directed ...</td>\n      <td>0</td>\n    </tr>\n    <tr>\n      <th>3</th>\n      <td>The most interesting thing about Miryang (Secr...</td>\n      <td>1</td>\n    </tr>\n    <tr>\n      <th>4</th>\n      <td>when i first read about \"berlin am meer\" i did...</td>\n      <td>0</td>\n    </tr>\n  </tbody>\n</table>\n</div>"
     },
     "execution_count": 73,
     "metadata": {},
     "output_type": "execute_result"
    }
   ],
   "source": [
    "data = pd.read_csv('data.csv')\n",
    "texts = data['text']\n",
    "labels = data['label']\n",
    "\n",
    "data.head()"
   ],
   "metadata": {
    "collapsed": false,
    "ExecuteTime": {
     "end_time": "2024-03-17T15:59:25.113104500Z",
     "start_time": "2024-03-17T15:59:25.055792800Z"
    }
   },
   "id": "56671b667edeaa2e"
  },
  {
   "cell_type": "code",
   "execution_count": 74,
   "outputs": [
    {
     "data": {
      "text/plain": "0    i always wrote this series off as being a comp...\n1    st watched    out of dirsteve purcell typical ...\n2    this movie was so poorly written and directed ...\n3    the most interesting thing about miryang secre...\n4    when i first read about berlin am meer i didnt...\nName: text, dtype: object"
     },
     "execution_count": 74,
     "metadata": {},
     "output_type": "execute_result"
    }
   ],
   "source": [
    "texts = texts.apply(clean_text)\n",
    "texts.head()"
   ],
   "metadata": {
    "collapsed": false,
    "ExecuteTime": {
     "end_time": "2024-03-17T15:59:25.207413700Z",
     "start_time": "2024-03-17T15:59:25.108156500Z"
    }
   },
   "id": "afffe2287d9c2d19"
  },
  {
   "cell_type": "code",
   "execution_count": 75,
   "outputs": [
    {
     "name": "stdout",
     "output_type": "stream",
     "text": [
      "Found 50503 unique tokens.\n"
     ]
    }
   ],
   "source": [
    "tokenizer = Tokenizer(num_words=10000)\n",
    "tokenizer.fit_on_texts(texts)\n",
    "sequences = tokenizer.texts_to_sequences(texts)\n",
    "\n",
    "word_index = tokenizer.word_index\n",
    "print(f'Found {len(word_index)} unique tokens.')"
   ],
   "metadata": {
    "collapsed": false,
    "ExecuteTime": {
     "end_time": "2024-03-17T15:59:26.048459500Z",
     "start_time": "2024-03-17T15:59:25.202411900Z"
    }
   },
   "id": "3630a687beeea78e"
  },
  {
   "cell_type": "code",
   "execution_count": 76,
   "outputs": [],
   "source": [
    "data = pad_sequences(sequences, maxlen=100)"
   ],
   "metadata": {
    "collapsed": false,
    "ExecuteTime": {
     "end_time": "2024-03-17T15:59:26.087546800Z",
     "start_time": "2024-03-17T15:59:26.048459500Z"
    }
   },
   "id": "2533b11f161c6368"
  },
  {
   "cell_type": "code",
   "execution_count": 77,
   "outputs": [],
   "source": [
    "X_train, X_test, y_train, y_test = train_test_split(data, labels, test_size=0.2, random_state=42)"
   ],
   "metadata": {
    "collapsed": false,
    "ExecuteTime": {
     "end_time": "2024-03-17T15:59:26.087546800Z",
     "start_time": "2024-03-17T15:59:26.079080800Z"
    }
   },
   "id": "10d8a66444be47f5"
  },
  {
   "cell_type": "code",
   "execution_count": 78,
   "outputs": [],
   "source": [
    "model = Sequential()\n",
    "model.add(Embedding(input_dim=len(word_index), output_dim=128))\n",
    "model.add(LSTM(64, return_sequences=False))\n",
    "model.add(Dense(1, activation='sigmoid'))\n",
    "\n",
    "model.compile(loss='binary_crossentropy', optimizer='adam', metrics=['accuracy'])          "
   ],
   "metadata": {
    "collapsed": false,
    "ExecuteTime": {
     "end_time": "2024-03-17T15:59:26.095033600Z",
     "start_time": "2024-03-17T15:59:26.084642300Z"
    }
   },
   "id": "5a14a80987d4bdbd"
  },
  {
   "cell_type": "code",
   "execution_count": 79,
   "outputs": [
    {
     "name": "stdout",
     "output_type": "stream",
     "text": [
      "Epoch 1/10\n",
      "\u001B[1m125/125\u001B[0m \u001B[32m━━━━━━━━━━━━━━━━━━━━\u001B[0m\u001B[37m\u001B[0m \u001B[1m5s\u001B[0m 35ms/step - accuracy: 0.5738 - loss: 0.6559 - val_accuracy: 0.7810 - val_loss: 0.4469\n",
      "Epoch 2/10\n",
      "\u001B[1m125/125\u001B[0m \u001B[32m━━━━━━━━━━━━━━━━━━━━\u001B[0m\u001B[37m\u001B[0m \u001B[1m4s\u001B[0m 34ms/step - accuracy: 0.8844 - loss: 0.2847 - val_accuracy: 0.7840 - val_loss: 0.5112\n",
      "Epoch 3/10\n",
      "\u001B[1m125/125\u001B[0m \u001B[32m━━━━━━━━━━━━━━━━━━━━\u001B[0m\u001B[37m\u001B[0m \u001B[1m4s\u001B[0m 34ms/step - accuracy: 0.9524 - loss: 0.1639 - val_accuracy: 0.7860 - val_loss: 0.5251\n",
      "Epoch 4/10\n",
      "\u001B[1m125/125\u001B[0m \u001B[32m━━━━━━━━━━━━━━━━━━━━\u001B[0m\u001B[37m\u001B[0m \u001B[1m4s\u001B[0m 34ms/step - accuracy: 0.9807 - loss: 0.0682 - val_accuracy: 0.8010 - val_loss: 0.5924\n",
      "Epoch 5/10\n",
      "\u001B[1m125/125\u001B[0m \u001B[32m━━━━━━━━━━━━━━━━━━━━\u001B[0m\u001B[37m\u001B[0m \u001B[1m4s\u001B[0m 34ms/step - accuracy: 0.9885 - loss: 0.0447 - val_accuracy: 0.7900 - val_loss: 0.6881\n",
      "Epoch 6/10\n",
      "\u001B[1m125/125\u001B[0m \u001B[32m━━━━━━━━━━━━━━━━━━━━\u001B[0m\u001B[37m\u001B[0m \u001B[1m4s\u001B[0m 34ms/step - accuracy: 0.9889 - loss: 0.0393 - val_accuracy: 0.7640 - val_loss: 0.6481\n",
      "Epoch 7/10\n",
      "\u001B[1m125/125\u001B[0m \u001B[32m━━━━━━━━━━━━━━━━━━━━\u001B[0m\u001B[37m\u001B[0m \u001B[1m4s\u001B[0m 34ms/step - accuracy: 0.9946 - loss: 0.0222 - val_accuracy: 0.7790 - val_loss: 0.8025\n",
      "Epoch 8/10\n",
      "\u001B[1m125/125\u001B[0m \u001B[32m━━━━━━━━━━━━━━━━━━━━\u001B[0m\u001B[37m\u001B[0m \u001B[1m4s\u001B[0m 35ms/step - accuracy: 0.9991 - loss: 0.0069 - val_accuracy: 0.7860 - val_loss: 1.0491\n",
      "Epoch 9/10\n",
      "\u001B[1m125/125\u001B[0m \u001B[32m━━━━━━━━━━━━━━━━━━━━\u001B[0m\u001B[37m\u001B[0m \u001B[1m4s\u001B[0m 34ms/step - accuracy: 0.9988 - loss: 0.0078 - val_accuracy: 0.7890 - val_loss: 0.9526\n",
      "Epoch 10/10\n",
      "\u001B[1m125/125\u001B[0m \u001B[32m━━━━━━━━━━━━━━━━━━━━\u001B[0m\u001B[37m\u001B[0m \u001B[1m4s\u001B[0m 34ms/step - accuracy: 0.9989 - loss: 0.0043 - val_accuracy: 0.7910 - val_loss: 1.0819\n"
     ]
    },
    {
     "data": {
      "text/plain": "<keras.src.callbacks.history.History at 0x24eb6c665a0>"
     },
     "execution_count": 79,
     "metadata": {},
     "output_type": "execute_result"
    }
   ],
   "source": [
    "model.fit(X_train, y_train, epochs=10, validation_data=(X_test, y_test))"
   ],
   "metadata": {
    "collapsed": false,
    "ExecuteTime": {
     "end_time": "2024-03-17T16:00:10.109470800Z",
     "start_time": "2024-03-17T15:59:26.093032900Z"
    }
   },
   "id": "992209036ff114b7"
  },
  {
   "cell_type": "code",
   "execution_count": 80,
   "outputs": [
    {
     "name": "stdout",
     "output_type": "stream",
     "text": [
      "Accuracy: 0.79%\n"
     ]
    }
   ],
   "source": [
    "loss, accuracy = model.evaluate(X_test, y_test, verbose=0)\n",
    "\n",
    "print(f'Accuracy: {accuracy:.2f}%')"
   ],
   "metadata": {
    "collapsed": false,
    "ExecuteTime": {
     "end_time": "2024-03-17T16:00:10.291012800Z",
     "start_time": "2024-03-17T16:00:10.105446700Z"
    }
   },
   "id": "967285ce7c42bdf1"
  },
  {
   "cell_type": "code",
   "execution_count": 83,
   "outputs": [
    {
     "name": "stdout",
     "output_type": "stream",
     "text": [
      "\u001B[1m1/1\u001B[0m \u001B[32m━━━━━━━━━━━━━━━━━━━━\u001B[0m\u001B[37m\u001B[0m \u001B[1m0s\u001B[0m 15ms/step\n",
      "[[0.0001103]]\n"
     ]
    }
   ],
   "source": [
    "test_text = ['I fell asleep through Dune 1, it was so boring']\n",
    "test_text = pd.Series(test_text).apply(clean_text)\n",
    "\n",
    "sequences = tokenizer.texts_to_sequences(test_text)\n",
    "data = pad_sequences(sequences, maxlen=100)\n",
    "\n",
    "predictions = model.predict(data)\n",
    "print(predictions)"
   ],
   "metadata": {
    "collapsed": false,
    "ExecuteTime": {
     "end_time": "2024-03-17T16:00:24.364596900Z",
     "start_time": "2024-03-17T16:00:24.318143700Z"
    }
   },
   "id": "c664f4077c453db"
  }
 ],
 "metadata": {
  "kernelspec": {
   "display_name": "Python 3",
   "language": "python",
   "name": "python3"
  },
  "language_info": {
   "codemirror_mode": {
    "name": "ipython",
    "version": 2
   },
   "file_extension": ".py",
   "mimetype": "text/x-python",
   "name": "python",
   "nbconvert_exporter": "python",
   "pygments_lexer": "ipython2",
   "version": "2.7.6"
  }
 },
 "nbformat": 4,
 "nbformat_minor": 5
}
